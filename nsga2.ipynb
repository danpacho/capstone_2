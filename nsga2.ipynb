{
 "cells": [
  {
   "cell_type": "markdown",
   "metadata": {},
   "source": [
    "# NSGA2 based pareto-optimal solution for the problem\n",
    "\n"
   ]
  },
  {
   "cell_type": "code",
   "execution_count": 1,
   "metadata": {},
   "outputs": [],
   "source": [
    "import numpy as np\n",
    "from pymoo.optimize import minimize\n",
    "from pymoo.core.problem import ElementwiseProblem\n",
    "from pymoo.algorithms.moo.nsga2 import NSGA2\n",
    "from pymoo.operators.sampling.rnd import FloatRandomSampling\n",
    "from pymoo.operators.crossover.sbx import SBX\n",
    "from pymoo.operators.mutation.pm import PM\n",
    "from math import sqrt, acos"
   ]
  },
  {
   "cell_type": "markdown",
   "metadata": {},
   "source": [
    "# Constants"
   ]
  },
  {
   "cell_type": "code",
   "execution_count": 2,
   "metadata": {},
   "outputs": [],
   "source": [
    "# Constants\n",
    "H = 570  # mm"
   ]
  },
  {
   "cell_type": "markdown",
   "metadata": {},
   "source": [
    "# Evaluation Functions"
   ]
  },
  {
   "cell_type": "code",
   "execution_count": 3,
   "metadata": {},
   "outputs": [],
   "source": [
    "def calculate_upper_bound_a(L):\n",
    "    \"\"\"Calculate the upper bound of 'a' based on 'L'.\"\"\"\n",
    "    return sqrt(L**2 + H**2) / 2\n",
    "\n",
    "\n",
    "def phi(a, L):\n",
    "    return acos(H / sqrt(H**2 + L**2))\n",
    "\n",
    "\n",
    "def d_center_of_mass(a, L):\n",
    "    return L / 2\n",
    "\n",
    "\n",
    "def h_max(a, L):\n",
    "    b_prime = L - a\n",
    "    c = H\n",
    "    s = (a + b_prime + c) / 2\n",
    "\n",
    "    inner = s * (s - a) * (s - b_prime) * (s - c)\n",
    "    if inner < 0:\n",
    "        return np.inf\n",
    "\n",
    "    S_heron = sqrt(inner)\n",
    "    return (2 * S_heron) / b_prime"
   ]
  },
  {
   "cell_type": "markdown",
   "metadata": {},
   "source": [
    "# Optimization Problem Definition"
   ]
  },
  {
   "cell_type": "code",
   "execution_count": 4,
   "metadata": {},
   "outputs": [],
   "source": [
    "class OptimizationProblem(ElementwiseProblem):\n",
    "    def __init__(\n",
    "        self,\n",
    "        n_var,\n",
    "        n_obj,\n",
    "        n_ieq_constr,\n",
    "    ):\n",
    "        super().__init__(\n",
    "            n_var=n_var,\n",
    "            n_obj=n_obj,\n",
    "            n_ieq_constr=n_ieq_constr,\n",
    "            xl=self.lower_bounds(),\n",
    "            xu=self.upper_bounds(),\n",
    "        )\n",
    "\n",
    "    @staticmethod\n",
    "    def lower_bounds():\n",
    "        \"\"\"Define lower bounds for variables.\"\"\"\n",
    "        return np.array([425, 300])\n",
    "\n",
    "    @staticmethod\n",
    "    def upper_bounds():\n",
    "        \"\"\"Define upper bounds for variables.\"\"\"\n",
    "        return np.array([650, calculate_upper_bound_a(650)])\n",
    "\n",
    "    def _evaluate(self, x, out, *args, **kwargs):\n",
    "        L, a = x\n",
    "\n",
    "        # Objective functions\n",
    "        f1 = phi(a, L)\n",
    "        f2 = d_center_of_mass(a, L)\n",
    "        f3 = h_max(a, L)\n",
    "\n",
    "        # Constraints:\n",
    "        # Triangular constraint\n",
    "        triangle_1 = a - L\n",
    "        triangle_2 = H - (L + a)\n",
    "        triangle_3 = L - a - H\n",
    "\n",
    "        # s*(s-a)*(s-b')*(s-c) > 0 constraint\n",
    "        b_prime = L - a\n",
    "        c = H\n",
    "        s = (a + b_prime + c) / 2\n",
    "        heron_expression = s * (s - a) * (s - b_prime) * (s - c)\n",
    "        heron_constraint = -heron_expression\n",
    "        # heron_constraint > 0 means that the triangle is valid\n",
    "\n",
    "        # Store objectives\n",
    "        out[\"F\"] = [f1, f2, f3]\n",
    "\n",
    "        # Store constraints\n",
    "        out[\"G\"] = [triangle_1, triangle_2, triangle_3, heron_constraint]"
   ]
  },
  {
   "cell_type": "markdown",
   "metadata": {},
   "source": [
    "# Execution"
   ]
  },
  {
   "cell_type": "code",
   "execution_count": 5,
   "metadata": {},
   "outputs": [],
   "source": [
    "def init_nsga2(\n",
    "    n_var,\n",
    "    n_obj,\n",
    "    n_ieq_constr,\n",
    "):\n",
    "    problem = OptimizationProblem(\n",
    "        n_var=n_var,\n",
    "        n_obj=n_obj,\n",
    "        n_ieq_constr=n_ieq_constr,\n",
    "    )\n",
    "\n",
    "    # Define the algorithm\n",
    "    algorithm = NSGA2(\n",
    "        pop_size=400,\n",
    "        sampling=FloatRandomSampling(),\n",
    "        crossover=SBX(prob=0.9, eta=15),\n",
    "        mutation=PM(eta=20),\n",
    "        eliminate_duplicates=True,\n",
    "    )\n",
    "\n",
    "    # Perform the optimization\n",
    "    res = minimize(\n",
    "        problem,\n",
    "        algorithm,\n",
    "        termination=(\"n_gen\", 200),\n",
    "        seed=1,\n",
    "        save_history=True,\n",
    "        verbose=False,\n",
    "    )\n",
    "\n",
    "    # Extract the Pareto-optimal solutions\n",
    "    pareto_solutions = res.X\n",
    "    pareto_objectives = res.F\n",
    "\n",
    "    # Print the results\n",
    "    print(\"-\" * 80)\n",
    "    print(\"\\nPareto-optimal solutions:\")\n",
    "    for sol, obj in zip(pareto_solutions, pareto_objectives):\n",
    "        L, a = sol\n",
    "        f1, f2, f3 = obj\n",
    "        f1_deg = np.rad2deg(f1)\n",
    "        b = sqrt(H**2 + L**2) - a\n",
    "        print(\">\" * 30)\n",
    "        print(\n",
    "            f\"Variables:\\nL: {L:.2f} mm, a: {a:.2f} mm, b: {b:.2f} mm\\n\"\n",
    "            f\"Objectives:\\nPhi: {f1_deg:.4f} deg, D_center_of_mass: {f2:.2f} mm, H_max: {f3:.2f} mm\"\n",
    "        )\n",
    "    print(\"\\n\" + \"-\" * 80)\n",
    "\n",
    "    return pareto_solutions, pareto_objectives"
   ]
  },
  {
   "cell_type": "code",
   "execution_count": 6,
   "metadata": {},
   "outputs": [
    {
     "name": "stdout",
     "output_type": "stream",
     "text": [
      "\n",
      "Compiled modules for significant speedup can not be used!\n",
      "https://pymoo.org/installation.html#installation\n",
      "\n",
      "To disable this warning:\n",
      "from pymoo.config import Config\n",
      "Config.warnings['not_compiled'] = False\n",
      "\n",
      "--------------------------------------------------------------------------------\n",
      "\n",
      "Pareto-optimal solutions:\n",
      ">>>>>>>>>>>>>>>>>>>>>>>>>>>>>>\n",
      "Variables:\n",
      "L: 570.00 mm, a: 300.00 mm, b: 506.10 mm\n",
      "Objectives:\n",
      "Phi: 45.0000 deg, D_center_of_mass: 285.00 mm, H_max: 0.03 mm\n",
      ">>>>>>>>>>>>>>>>>>>>>>>>>>>>>>\n",
      "Variables:\n",
      "L: 570.00 mm, a: 300.00 mm, b: 506.10 mm\n",
      "Objectives:\n",
      "Phi: 45.0000 deg, D_center_of_mass: 285.00 mm, H_max: 0.03 mm\n",
      ">>>>>>>>>>>>>>>>>>>>>>>>>>>>>>\n",
      "Variables:\n",
      "L: 570.00 mm, a: 300.01 mm, b: 506.09 mm\n",
      "Objectives:\n",
      "Phi: 45.0000 deg, D_center_of_mass: 285.00 mm, H_max: 0.03 mm\n",
      "\n",
      "--------------------------------------------------------------------------------\n"
     ]
    }
   ],
   "source": [
    "pareto_solutions, pareto_objectives = init_nsga2(\n",
    "    n_var=2,\n",
    "    n_obj=3,\n",
    "    n_ieq_constr=4,\n",
    ")"
   ]
  }
 ],
 "metadata": {
  "kernelspec": {
   "display_name": ".venv",
   "language": "python",
   "name": "python3"
  },
  "language_info": {
   "codemirror_mode": {
    "name": "ipython",
    "version": 3
   },
   "file_extension": ".py",
   "mimetype": "text/x-python",
   "name": "python",
   "nbconvert_exporter": "python",
   "pygments_lexer": "ipython3",
   "version": "3.12.5"
  }
 },
 "nbformat": 4,
 "nbformat_minor": 2
}
